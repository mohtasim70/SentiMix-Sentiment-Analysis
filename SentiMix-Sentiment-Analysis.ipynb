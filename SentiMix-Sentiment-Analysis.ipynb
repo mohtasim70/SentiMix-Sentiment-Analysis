{
 "cells": [
  {
   "cell_type": "code",
   "execution_count": 46,
   "metadata": {},
   "outputs": [
    {
     "name": "stderr",
     "output_type": "stream",
     "text": [
      "[nltk_data] Downloading package stopwords to\n",
      "[nltk_data]     C:\\Users\\Mohtasim\\AppData\\Roaming\\nltk_data...\n",
      "[nltk_data]   Package stopwords is already up-to-date!\n"
     ]
    },
    {
     "data": {
      "text/plain": [
       "True"
      ]
     },
     "execution_count": 46,
     "metadata": {},
     "output_type": "execute_result"
    }
   ],
   "source": [
    "import sklearn.preprocessing\n",
    "import nltk\n",
    "import numpy as np\n",
    "import pandas as pd\n",
    "import sklearn.feature_extraction.text as sk\n",
    "import keras\n",
    "import re\n",
    "from nltk.corpus import stopwords\n",
    "from nltk.stem import WordNetLemmatizer \n",
    "nltk.download('stopwords')"
   ]
  },
  {
   "cell_type": "code",
   "execution_count": 47,
   "metadata": {},
   "outputs": [],
   "source": [
    "wordnet = WordNetLemmatizer()\n",
    "stop_words = stopwords.words(\"english\")\n",
    "\n",
    "def text_preproc(x):\n",
    "    \n",
    "    x = x.lower()\n",
    "    x = ' '.join([word for word in x.split(' ') if word not in stop_words])\n",
    "    x = x.encode('ascii', 'ignore').decode()\n",
    "    x = re.sub(r'https*\\S+', ' ', x)\n",
    "    x = re.sub(r'@\\S+', ' ', x)\n",
    "    x = re.sub(r'#\\S+', ' ', x)\n",
    "    x = re.sub(r'\\'\\w+', '', x)\n",
    "    x = re.sub('[%s]' % re.escape(string.punctuation), ' ', x)\n",
    "    x = re.sub(r'\\w*\\d+\\w*', '', x)\n",
    "    x = re.sub(r'\\s{2,}', ' ', x)\n",
    "    return x\n",
    "\n",
    "def remove_punctuation(text):\n",
    "    no_punct=[words for words in text if words not in val]\n",
    "    words_wo_punct=''.join(no_punct)\n",
    "    return words_wo_punct\n",
    "def deEmojify(text):\n",
    "    regrex_pattern = re.compile(pattern = \"[\"\n",
    "        u\"\\U0001F600-\\U0001F64F\"  # emoticons\n",
    "        u\"\\U0001F300-\\U0001F5FF\"  # symbols & pictographs\n",
    "        u\"\\U0001F680-\\U0001F6FF\"  # transport & map symbols\n",
    "        u\"\\U0001F1E0-\\U0001F1FF\"  # flags (iOS)\n",
    "                           \"]+\", flags = re.UNICODE)\n",
    "    return regrex_pattern.sub(r'',text)"
   ]
  },
  {
   "cell_type": "code",
   "execution_count": 48,
   "metadata": {},
   "outputs": [
    {
     "name": "stdout",
     "output_type": "stream",
     "text": [
      "3000\n"
     ]
    }
   ],
   "source": [
    "filename2=\"C:\\\\Users\\\\Mohtasim\\\\Downloads\\\\test_labels_hinglish.txt\"\n",
    "file2 = open(filename2, encoding=\"utf8\")\n",
    "Lines = file2.readlines() \n",
    "#print(Lines)\n",
    "op=0\n",
    "Testlabels=[]\n",
    "Testids=[]\n",
    "for line in Lines:\n",
    "    \n",
    "    fields=line.split(',')\n",
    "    if op==0:\n",
    "        op+=1\n",
    "        continue\n",
    "    Testlabels.append(fields[1])\n",
    "    Testids.append(fields[0])\n",
    "    \n",
    "    \n",
    "\n",
    "print(len(Testlabels))    \n",
    "file2.close() "
   ]
  },
  {
   "cell_type": "code",
   "execution_count": 49,
   "metadata": {},
   "outputs": [
    {
     "name": "stdout",
     "output_type": "stream",
     "text": [
      "3000\n",
      "84362\n"
     ]
    }
   ],
   "source": [
    "filename=\"C:\\\\Users\\\\Mohtasim\\\\Downloads\\\\Hindi_test_unalbelled_conll_updated.txt\"\n",
    "file = open(filename, encoding=\"utf8\")\n",
    "\n",
    " \n",
    "# for line in Lines:\n",
    "#     print(line)\n",
    "#     line.split()\n",
    "#     break;\n",
    "Words=[]\n",
    "TestSentences=[]\n",
    "sum2=0\n",
    "sum1=0\n",
    "\n",
    "for line in file:\n",
    "    sum1+=1\n",
    "    if(sum1>=84336):\n",
    "       # print(sum1)\n",
    "        \n",
    "        if line!='\\n':\n",
    "            \n",
    "            fields=line.split()\n",
    "           # print(fields)\n",
    "            if fields[0]==\"https\":\n",
    "                continue\n",
    "            if fields[0]==\"meta\":\n",
    "                continue\n",
    "            else:\n",
    "                Words.append(fields[0])\n",
    "#                 print(Words)\n",
    "        if sum1==84362 or line=='\\n':\n",
    "            sent=' '.join(Words)\n",
    "#             print(\"End\",sent)\n",
    "            TestSentences.append(sent)\n",
    "            Words=[]\n",
    "            sum2=sum2+1\n",
    "    else:    \n",
    "        if line!='\\n':\n",
    "            fields=line.split()\n",
    "            if fields[0]==\"https\":\n",
    "                continue\n",
    "            if fields[0]==\"meta\":\n",
    "                continue\n",
    "            else:\n",
    "                Words.append(fields[0])\n",
    "               # print(Words)\n",
    "        if line=='\\n':\n",
    "            sent=' '.join(Words)\n",
    "            TestSentences.append(sent)\n",
    "            Words=[]\n",
    "            sum2=sum2+1\n",
    "print(len(TestSentences))    \n",
    "print(sum1)   \n",
    "        \n",
    "file.close()"
   ]
  },
  {
   "cell_type": "code",
   "execution_count": 50,
   "metadata": {},
   "outputs": [
    {
     "data": {
      "text/html": [
       "<div>\n",
       "<style scoped>\n",
       "    .dataframe tbody tr th:only-of-type {\n",
       "        vertical-align: middle;\n",
       "    }\n",
       "\n",
       "    .dataframe tbody tr th {\n",
       "        vertical-align: top;\n",
       "    }\n",
       "\n",
       "    .dataframe thead th {\n",
       "        text-align: right;\n",
       "    }\n",
       "</style>\n",
       "<table border=\"1\" class=\"dataframe\">\n",
       "  <thead>\n",
       "    <tr style=\"text-align: right;\">\n",
       "      <th></th>\n",
       "      <th>tweet</th>\n",
       "      <th>sentiment</th>\n",
       "    </tr>\n",
       "  </thead>\n",
       "  <tbody>\n",
       "    <tr>\n",
       "      <th>2995</th>\n",
       "      <td>atulreellife haha atulreellife jai ho bhul gy...</td>\n",
       "      <td>neutral</td>\n",
       "    </tr>\n",
       "    <tr>\n",
       "      <th>2996</th>\n",
       "      <td>da realest thank putting track can wait next ...</td>\n",
       "      <td>neutral</td>\n",
       "    </tr>\n",
       "    <tr>\n",
       "      <th>2997</th>\n",
       "      <td>rt nimra fahad bhaiiiii give us bilal abbas ca...</td>\n",
       "      <td>neutral</td>\n",
       "    </tr>\n",
       "    <tr>\n",
       "      <th>2998</th>\n",
       "      <td>rt fralaliciouxxe tbh bad sides say bad horrib...</td>\n",
       "      <td>neutral</td>\n",
       "    </tr>\n",
       "    <tr>\n",
       "      <th>2999</th>\n",
       "      <td>bhadasmanki mithleshkumarmi bjpindia sherryon...</td>\n",
       "      <td>negative</td>\n",
       "    </tr>\n",
       "  </tbody>\n",
       "</table>\n",
       "</div>"
      ],
      "text/plain": [
       "                                                  tweet sentiment\n",
       "2995   atulreellife haha atulreellife jai ho bhul gy...   neutral\n",
       "2996   da realest thank putting track can wait next ...   neutral\n",
       "2997  rt nimra fahad bhaiiiii give us bilal abbas ca...   neutral\n",
       "2998  rt fralaliciouxxe tbh bad sides say bad horrib...   neutral\n",
       "2999   bhadasmanki mithleshkumarmi bjpindia sherryon...  negative"
      ]
     },
     "execution_count": 50,
     "metadata": {},
     "output_type": "execute_result"
    }
   ],
   "source": [
    "import string\n",
    "import re\n",
    "val=string.punctuation\n",
    "\n",
    "df1 = pd.DataFrame(list(zip(TestSentences, Testlabels)), \n",
    "               columns =['tweet', 'sentiment']) \n",
    "\n",
    "df1['tweet']=df1['tweet'].apply(lambda x: text_preproc(x))\n",
    "\n",
    "\n",
    "df1['tweet']=df1['tweet'].apply(lambda x: remove_punctuation(x))\n",
    "\n",
    "# def tokenize(text):\n",
    "#     split=re.split(\"\\W+\",text) \n",
    "#     return split\n",
    "# df['title_wo_punct_split']=df['title_wo_punct'].apply(lambda x: tokenize(x.lower()))\n",
    "\n",
    "\n",
    "\n",
    "df1['tweet']=df1['tweet'].apply(lambda x: deEmojify(x))\n",
    "df1['sentiment']=df1['sentiment'].apply(lambda x: x.rstrip(\"\\n\"))\n",
    "\n",
    "df1.tail()"
   ]
  },
  {
   "cell_type": "code",
   "execution_count": null,
   "metadata": {},
   "outputs": [],
   "source": []
  },
  {
   "cell_type": "code",
   "execution_count": null,
   "metadata": {},
   "outputs": [],
   "source": []
  },
  {
   "cell_type": "code",
   "execution_count": 51,
   "metadata": {},
   "outputs": [
    {
     "name": "stdout",
     "output_type": "stream",
     "text": [
      "Sum 0\n"
     ]
    }
   ],
   "source": [
    "filename=\"C:\\\\Users\\\\Mohtasim\\\\Downloads\\\\train_conll.txt\"\n",
    "file = open(filename, encoding=\"utf8\")\n",
    "# Lines = file.readlines() \n",
    "  \n",
    "# for line in Lines:\n",
    "#     print(line)\n",
    "#     line.split()\n",
    "#     break;\n",
    "Words=[]\n",
    "labels=[]\n",
    "Sentences=[]\n",
    "sum2=0\n",
    "sum1=0\n",
    "print(\"Sum\",sum1)\n",
    "for line in file:\n",
    "    sum1+=1\n",
    "    if line!='\\n':\n",
    "        fields=line.split()\n",
    "        if fields[0]==\"http\":\n",
    "            continue\n",
    "        if fields[0]==\"meta\":\n",
    "            labels.append(fields[2])\n",
    "        else:\n",
    "            Words.append(fields[0])\n",
    "           # print(Words)\n",
    "    if line=='\\n':\n",
    "        sent=' '.join(Words)\n",
    "        Sentences.append(sent)\n",
    "        Words=[]\n",
    "        sum2=sum2+1\n",
    "    \n",
    "#print(\"1111111111\"+Sentences[-1])"
   ]
  },
  {
   "cell_type": "code",
   "execution_count": 4,
   "metadata": {},
   "outputs": [
    {
     "name": "stderr",
     "output_type": "stream",
     "text": [
      "[nltk_data] Downloading package stopwords to\n",
      "[nltk_data]     C:\\Users\\Mohtasim\\AppData\\Roaming\\nltk_data...\n",
      "[nltk_data]   Package stopwords is already up-to-date!\n"
     ]
    },
    {
     "data": {
      "text/plain": [
       "True"
      ]
     },
     "execution_count": 4,
     "metadata": {},
     "output_type": "execute_result"
    }
   ],
   "source": [
    "\n"
   ]
  },
  {
   "cell_type": "code",
   "execution_count": 13,
   "metadata": {},
   "outputs": [],
   "source": []
  },
  {
   "cell_type": "code",
   "execution_count": 52,
   "metadata": {},
   "outputs": [
    {
     "data": {
      "text/html": [
       "<div>\n",
       "<style scoped>\n",
       "    .dataframe tbody tr th:only-of-type {\n",
       "        vertical-align: middle;\n",
       "    }\n",
       "\n",
       "    .dataframe tbody tr th {\n",
       "        vertical-align: top;\n",
       "    }\n",
       "\n",
       "    .dataframe thead th {\n",
       "        text-align: right;\n",
       "    }\n",
       "</style>\n",
       "<table border=\"1\" class=\"dataframe\">\n",
       "  <thead>\n",
       "    <tr style=\"text-align: right;\">\n",
       "      <th></th>\n",
       "      <th>tweet</th>\n",
       "      <th>sentiment</th>\n",
       "    </tr>\n",
       "  </thead>\n",
       "  <tbody>\n",
       "    <tr>\n",
       "      <th>0</th>\n",
       "      <td>adilnisarbutt pakistan ka ghra tauq pakistan ...</td>\n",
       "      <td>negative</td>\n",
       "    </tr>\n",
       "    <tr>\n",
       "      <th>1</th>\n",
       "      <td>madarchod mulle ye mathura nahi dikha tha jab ...</td>\n",
       "      <td>negative</td>\n",
       "    </tr>\n",
       "    <tr>\n",
       "      <th>2</th>\n",
       "      <td>narendramodi manya pradhan mantri mahoday shr...</td>\n",
       "      <td>positive</td>\n",
       "    </tr>\n",
       "    <tr>\n",
       "      <th>3</th>\n",
       "      <td>atheist krishna jcb full trend chal rahi aa</td>\n",
       "      <td>positive</td>\n",
       "    </tr>\n",
       "    <tr>\n",
       "      <th>4</th>\n",
       "      <td>abhisharsharma ravishkumarblog loksabha janta...</td>\n",
       "      <td>positive</td>\n",
       "    </tr>\n",
       "    <tr>\n",
       "      <th>...</th>\n",
       "      <td>...</td>\n",
       "      <td>...</td>\n",
       "    </tr>\n",
       "    <tr>\n",
       "      <th>15126</th>\n",
       "      <td>rohitsharmawpg asadowaisi narendramodi shame ...</td>\n",
       "      <td>negative</td>\n",
       "    </tr>\n",
       "    <tr>\n",
       "      <th>15127</th>\n",
       "      <td>prof hariom jkgrievance bijli mantri people d...</td>\n",
       "      <td>negative</td>\n",
       "    </tr>\n",
       "    <tr>\n",
       "      <th>15128</th>\n",
       "      <td>amjedmbt bandisanjay bjp cpkarimnagar telanga...</td>\n",
       "      <td>negative</td>\n",
       "    </tr>\n",
       "    <tr>\n",
       "      <th>15129</th>\n",
       "      <td>sunju mishra phir bjp ke leader vikas ke bare...</td>\n",
       "      <td>negative</td>\n",
       "    </tr>\n",
       "    <tr>\n",
       "      <th>15130</th>\n",
       "      <td>iss ko wale doglepan alawa kuch bhi nahi kare...</td>\n",
       "      <td>negative</td>\n",
       "    </tr>\n",
       "  </tbody>\n",
       "</table>\n",
       "<p>15131 rows × 2 columns</p>\n",
       "</div>"
      ],
      "text/plain": [
       "                                                   tweet sentiment\n",
       "0       adilnisarbutt pakistan ka ghra tauq pakistan ...  negative\n",
       "1      madarchod mulle ye mathura nahi dikha tha jab ...  negative\n",
       "2       narendramodi manya pradhan mantri mahoday shr...  positive\n",
       "3            atheist krishna jcb full trend chal rahi aa  positive\n",
       "4       abhisharsharma ravishkumarblog loksabha janta...  positive\n",
       "...                                                  ...       ...\n",
       "15126   rohitsharmawpg asadowaisi narendramodi shame ...  negative\n",
       "15127   prof hariom jkgrievance bijli mantri people d...  negative\n",
       "15128   amjedmbt bandisanjay bjp cpkarimnagar telanga...  negative\n",
       "15129   sunju mishra phir bjp ke leader vikas ke bare...  negative\n",
       "15130   iss ko wale doglepan alawa kuch bhi nahi kare...  negative\n",
       "\n",
       "[15131 rows x 2 columns]"
      ]
     },
     "execution_count": 52,
     "metadata": {},
     "output_type": "execute_result"
    }
   ],
   "source": [
    "import string\n",
    "import re\n",
    "val=string.punctuation\n",
    "\n",
    "df = pd.DataFrame(list(zip(Sentences, labels)), \n",
    "               columns =['tweet', 'sentiment']) \n",
    "\n",
    "df['tweet']=df['tweet'].apply(lambda x: text_preproc(x))\n",
    "\n",
    "\n",
    "df['tweet']=df['tweet'].apply(lambda x: remove_punctuation(x))\n",
    "\n",
    "# def tokenize(text):\n",
    "#     split=re.split(\"\\W+\",text) \n",
    "#     return split\n",
    "# df['title_wo_punct_split']=df['title_wo_punct'].apply(lambda x: tokenize(x.lower()))\n",
    "\n",
    "\n",
    "\n",
    "df['tweet']=df['tweet'].apply(lambda x: deEmojify(x))\n",
    "\n",
    "df\n",
    "\n"
   ]
  },
  {
   "cell_type": "code",
   "execution_count": 53,
   "metadata": {},
   "outputs": [],
   "source": [
    "from sklearn.model_selection import train_test_split\n",
    "\n",
    "sentences_train = df['tweet'].values\n",
    "y_train = df['sentiment'].values\n",
    "# print(y_train.)\n",
    "\n",
    "sentences_test=df1['tweet'].values\n",
    "y_test = df1['sentiment'].values\n",
    "\n",
    "# sentences_train, sentences_test, y_train, y_test = train_test_split(\n",
    "#    sentences, y, test_size=0.25, random_state=1000)"
   ]
  },
  {
   "cell_type": "code",
   "execution_count": 54,
   "metadata": {},
   "outputs": [
    {
     "data": {
      "text/plain": [
       "<15131x39182 sparse matrix of type '<class 'numpy.int64'>'\n",
       "\twith 226116 stored elements in Compressed Sparse Row format>"
      ]
     },
     "execution_count": 54,
     "metadata": {},
     "output_type": "execute_result"
    }
   ],
   "source": [
    "from sklearn.feature_extraction.text import CountVectorizer\n",
    "\n",
    "vectorizer = CountVectorizer()\n",
    "vectorizer.fit(sentences_train)\n",
    "\n",
    "X_train = vectorizer.transform(sentences_train)\n",
    "X_test  = vectorizer.transform(sentences_test)\n",
    "X_train"
   ]
  },
  {
   "cell_type": "code",
   "execution_count": 55,
   "metadata": {},
   "outputs": [
    {
     "name": "stdout",
     "output_type": "stream",
     "text": [
      "Accuracy of SVM classifier on training set: 0.91\n",
      "Accuracy of SVM classifier on test set: 0.67\n"
     ]
    }
   ],
   "source": [
    "from sklearn.svm import SVC\n",
    "svm = SVC()\n",
    "svm.fit(X_train, y_train)\n",
    "print('Accuracy of SVM classifier on training set: {:.2f}'\n",
    "     .format(svm.score(X_train, y_train)))\n",
    "print('Accuracy of SVM classifier on test set: {:.2f}'\n",
    "     .format(svm.score(X_test, y_test)))"
   ]
  },
  {
   "cell_type": "code",
   "execution_count": 56,
   "metadata": {},
   "outputs": [
    {
     "name": "stdout",
     "output_type": "stream",
     "text": [
      "(3000, 1)\n",
      "(3000, 1)\n",
      "[[585 289  26]\n",
      " [197 731 172]\n",
      " [ 31 264 705]]\n",
      "              precision    recall  f1-score   support\n",
      "\n",
      "    negative       0.72      0.65      0.68       900\n",
      "     neutral       0.57      0.66      0.61      1100\n",
      "    positive       0.78      0.70      0.74      1000\n",
      "\n",
      "    accuracy                           0.67      3000\n",
      "   macro avg       0.69      0.67      0.68      3000\n",
      "weighted avg       0.68      0.67      0.68      3000\n",
      "\n"
     ]
    }
   ],
   "source": [
    "y_pred = svm.predict(X_test)\n",
    "# print(y_pred)\n",
    "# y_pred[0]\n",
    "df11 = pd.DataFrame(y_pred,columns=['Sentiment'])\n",
    "print(df11.shape)\n",
    "Testids=np.array(Testids)\n",
    "df22= pd.DataFrame(Testids,columns=['Uid'])\n",
    "print(df22.shape)\n",
    "\n",
    "df11.head()\n",
    "df5=pd.concat([df22,df11], axis=0)\n",
    "df5[\"Uid\"]=df22[\"Uid\"]\n",
    "df5[\"Sentiment\"]=df11[\"Sentiment\"]\n",
    "\n",
    "#df5\n",
    "\n",
    "\n",
    "from sklearn.metrics import classification_report, confusion_matrix\n",
    "print(confusion_matrix(y_test, y_pred))\n",
    "print(classification_report(y_test, y_pred))"
   ]
  },
  {
   "cell_type": "code",
   "execution_count": 119,
   "metadata": {},
   "outputs": [],
   "source": [
    "# df5.to_csv('C:\\\\Users\\\\Mohtasim\\\\Music\\\\answers1.csv',index = False)\n",
    "# fd=open(\"C:\\\\Users\\\\Mohtasim\\\\Music\\\\answers1.csv\",\"r\")\n",
    "# d=fd.read()\n",
    "# fd.close()\n",
    "# m=d.split(\"\\n\")\n",
    "# s=\"\\n\".join(m[:-1])\n",
    "# fd=open(\"C:\\\\Users\\\\Mohtasim\\\\Music\\\\answers1.csv\",\"w+\")\n",
    "# for i in range(len(s)):\n",
    "#     fd.write(s[i])\n",
    "# fd.close()\n",
    "\n",
    "# import csv\n",
    "# csv_file = \"C:\\\\Users\\\\Mohtasim\\\\Music\\\\answers1.csv\"\n",
    "# txt_file = \"C:\\\\Users\\\\Mohtasim\\\\Music\\\\answer.txt\"\n",
    "# with open(txt_file, \"w\") as my_output_file:\n",
    "#     with open(csv_file, \"r\") as my_input_file:\n",
    "#         [ my_output_file.write(\",\".join(row)+'\\n') for row in csv.reader(my_input_file)]\n",
    "#     my_output_file.close()\n",
    "    \n",
    "# fd=open(\"C:\\\\Users\\\\Mohtasim\\\\Music\\\\answer.txt\",\"r\")\n",
    "# d=fd.read()\n",
    "# fd.close()\n",
    "# m=d.split(\"\\n\")\n",
    "# s=\"\\n\".join(m[:-1])\n",
    "# fd=open(\"C:\\\\Users\\\\Mohtasim\\\\Music\\\\answer.txt\",\"w+\")\n",
    "# for i in range(len(s)):\n",
    "#     fd.write(s[i])\n",
    "# fd.close()"
   ]
  },
  {
   "cell_type": "code",
   "execution_count": 57,
   "metadata": {},
   "outputs": [
    {
     "ename": "AttributeError",
     "evalue": "'matrix' object has no attribute 'todense'",
     "output_type": "error",
     "traceback": [
      "\u001b[1;31m---------------------------------------------------------------------------\u001b[0m",
      "\u001b[1;31mAttributeError\u001b[0m                            Traceback (most recent call last)",
      "\u001b[1;32m<ipython-input-57-a2c26e46f78f>\u001b[0m in \u001b[0;36m<module>\u001b[1;34m\u001b[0m\n\u001b[0;32m      1\u001b[0m \u001b[1;32mfrom\u001b[0m \u001b[0msklearn\u001b[0m\u001b[1;33m.\u001b[0m\u001b[0mnaive_bayes\u001b[0m \u001b[1;32mimport\u001b[0m \u001b[0mGaussianNB\u001b[0m\u001b[1;33m\u001b[0m\u001b[1;33m\u001b[0m\u001b[0m\n\u001b[0;32m      2\u001b[0m \u001b[0mgnb\u001b[0m \u001b[1;33m=\u001b[0m \u001b[0mGaussianNB\u001b[0m\u001b[1;33m(\u001b[0m\u001b[1;33m)\u001b[0m\u001b[1;33m\u001b[0m\u001b[1;33m\u001b[0m\u001b[0m\n\u001b[1;32m----> 3\u001b[1;33m \u001b[0mX_train\u001b[0m\u001b[1;33m=\u001b[0m\u001b[0mX_train\u001b[0m\u001b[1;33m.\u001b[0m\u001b[0mtodense\u001b[0m\u001b[1;33m(\u001b[0m\u001b[1;33m)\u001b[0m\u001b[1;33m\u001b[0m\u001b[1;33m\u001b[0m\u001b[0m\n\u001b[0m\u001b[0;32m      4\u001b[0m \u001b[0mX_test\u001b[0m\u001b[1;33m=\u001b[0m\u001b[0mX_test\u001b[0m\u001b[1;33m.\u001b[0m\u001b[0mtodense\u001b[0m\u001b[1;33m(\u001b[0m\u001b[1;33m)\u001b[0m\u001b[1;33m\u001b[0m\u001b[1;33m\u001b[0m\u001b[0m\n\u001b[0;32m      5\u001b[0m \u001b[0mgnb\u001b[0m\u001b[1;33m.\u001b[0m\u001b[0mfit\u001b[0m\u001b[1;33m(\u001b[0m\u001b[0mX_train\u001b[0m\u001b[1;33m,\u001b[0m \u001b[0my_train\u001b[0m\u001b[1;33m)\u001b[0m\u001b[1;33m\u001b[0m\u001b[1;33m\u001b[0m\u001b[0m\n",
      "\u001b[1;31mAttributeError\u001b[0m: 'matrix' object has no attribute 'todense'"
     ]
    }
   ],
   "source": []
  },
  {
   "cell_type": "code",
   "execution_count": 122,
   "metadata": {},
   "outputs": [
    {
     "data": {
      "image/png": "[encoded data removed]",
      "text/plain": [
       "<Figure size 432x288 with 1 Axes>"
      ]
     },
     "metadata": {
      "needs_background": "light"
     },
     "output_type": "display_data"
    }
   ],
   "source": [
    "import pandas as pd\n",
    "import matplotlib.pyplot as plt\n",
    "pd.value_counts(y_pred).plot.bar()\n",
    "plt.title('0= Negative | 1= Neutral | 2= Positive'+'\\n'+'Plot for predicted data')\n",
    "\n",
    "plt.show()"
   ]
  },
  {
   "cell_type": "code",
   "execution_count": null,
   "metadata": {},
   "outputs": [],
   "source": []
  }
 ],
 "metadata": {
  "kernelspec": {
   "display_name": "Python 3",
   "language": "python",
   "name": "python3"
  },
  "language_info": {
   "codemirror_mode": {
    "name": "ipython",
    "version": 3
   },
   "file_extension": ".py",
   "mimetype": "text/x-python",
   "name": "python",
   "nbconvert_exporter": "python",
   "pygments_lexer": "ipython3",
   "version": "3.7.6"
  }
 },
 "nbformat": 4,
 "nbformat_minor": 4
}
